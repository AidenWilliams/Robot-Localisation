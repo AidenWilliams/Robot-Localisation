{
 "cells": [
  {
   "cell_type": "markdown",
   "source": [
    "# Imports"
   ],
   "metadata": {
    "collapsed": false,
    "pycharm": {
     "name": "#%% md\n"
    }
   }
  },
  {
   "cell_type": "code",
   "execution_count": null,
   "metadata": {
    "collapsed": true
   },
   "outputs": [],
   "source": [
    "from math import pi, sqrt, cos, sin\n",
    "from random import random, gauss"
   ]
  },
  {
   "cell_type": "markdown",
   "source": [
    "# Setting up the Environment"
   ],
   "metadata": {
    "collapsed": false
   }
  },
  {
   "cell_type": "code",
   "execution_count": null,
   "outputs": [],
   "source": [
    "landmarks  = [[10, 10], [90, 90], [10, 90], [90, 10]]\n",
    "world_size = 200"
   ],
   "metadata": {
    "collapsed": false,
    "pycharm": {
     "name": "#%%\n"
    }
   }
  },
  {
   "cell_type": "markdown",
   "source": [
    "# Initializing the Robot"
   ],
   "metadata": {
    "collapsed": false
   }
  },
  {
   "cell_type": "code",
   "execution_count": null,
   "outputs": [],
   "source": [
    "MAX_STEERING_ANGLE = pi / 4 # r\n",
    "BEARING_NOISE_VAR = 0.1 # r\n",
    "STEERING_NOISE_VAR = 0.1 # r\n",
    "DISTANCE_NOISE_VAR = 5 # cn\n",
    "\n",
    "robot = {\n",
    "            \"x\": random() * world_size,\n",
    "            \"y\": random() * world_size,\n",
    "            \"orientation\": random() * world_size\n",
    "        }\n"
   ],
   "metadata": {
    "collapsed": false,
    "pycharm": {
     "name": "#%%\n"
    }
   }
  },
  {
   "cell_type": "markdown",
   "source": [
    "# Sense Function"
   ],
   "metadata": {
    "collapsed": false,
    "pycharm": {
     "name": "#%% md\n"
    }
   }
  },
  {
   "cell_type": "code",
   "execution_count": null,
   "outputs": [],
   "source": [
    "def sense():\n",
    "    Z = []\n",
    "    for i in range(len(landmarks)):\n",
    "        dist = sqrt((robot['x'] - landmarks[i][0]) ** 2 + (robot['y'] - landmarks[i][1]) ** 2)\n",
    "        dist += gauss(0, DISTANCE_NOISE_VAR)\n",
    "        Z.append(dist)\n",
    "    return Z"
   ],
   "metadata": {
    "collapsed": false,
    "pycharm": {
     "name": "#%%\n"
    }
   }
  },
  {
   "cell_type": "markdown",
   "source": [
    "# Move Function"
   ],
   "metadata": {
    "collapsed": false
   }
  },
  {
   "cell_type": "code",
   "execution_count": null,
   "outputs": [],
   "source": [
    "def move(turn, forward):\n",
    "    # turn, and add randomness to the turning command\n",
    "    orientation = robot['orientation'] + float(turn) + gauss(0, STEERING_NOISE_VAR)\n",
    "    orientation %= 2 * pi\n",
    "\n",
    "    # move, and add randomness to the motion command\n",
    "    dist = float(forward) + gauss(0, DISTANCE_NOISE_VAR)\n",
    "    x = robot['x'] + (cos(orientation) * dist)\n",
    "    y = robot['y'] + (sin(orientation) * dist)\n",
    "    x %= world_size    # cyclic truncate\n",
    "    y %= world_size\n",
    "\n",
    "    # set particle\n",
    "    res = robot()\n",
    "    res.set(x, y, orientation)\n",
    "    res.set_noise(self.forward_noise, self.turn_noise, self.sense_noise)\n",
    "    return res"
   ],
   "metadata": {
    "collapsed": false,
    "pycharm": {
     "name": "#%%\n"
    }
   }
  },
  {
   "cell_type": "markdown",
   "source": [
    "# Particle Filter"
   ],
   "metadata": {
    "collapsed": false,
    "pycharm": {
     "name": "#%% md\n"
    }
   }
  }
 ],
 "metadata": {
  "kernelspec": {
   "display_name": "Python 3",
   "language": "python",
   "name": "python3"
  },
  "language_info": {
   "codemirror_mode": {
    "name": "ipython",
    "version": 2
   },
   "file_extension": ".py",
   "mimetype": "text/x-python",
   "name": "python",
   "nbconvert_exporter": "python",
   "pygments_lexer": "ipython2",
   "version": "2.7.6"
  }
 },
 "nbformat": 4,
 "nbformat_minor": 0
}