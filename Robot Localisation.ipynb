{
 "cells": [
  {
   "cell_type": "markdown",
   "source": [
    "# Imports"
   ],
   "metadata": {
    "collapsed": false,
    "pycharm": {
     "name": "#%% md\n"
    }
   }
  },
  {
   "cell_type": "code",
   "execution_count": 1,
   "metadata": {
    "collapsed": true
   },
   "outputs": [],
   "source": [
    "from math import pi, sqrt, cos, sin, asin, radians, atan2, degrees\n",
    "import math\n",
    "from random import random, gauss\n",
    "import matplotlib.pyplot as plt\n",
    "import numpy as np"
   ]
  },
  {
   "cell_type": "markdown",
   "source": [
    "# Setting up the Environment"
   ],
   "metadata": {
    "collapsed": false
   }
  },
  {
   "cell_type": "code",
   "execution_count": 2,
   "outputs": [
    {
     "data": {
      "text/plain": "<Figure size 432x288 with 1 Axes>",
      "image/png": "[encoded data removed]"
     },
     "metadata": {
      "needs_background": "light"
     },
     "output_type": "display_data"
    }
   ],
   "source": [
    "landmarks  = [[10, 10], [190, 190], [10, 190], [190, 10]]\n",
    "world_size = 200\n",
    "def drawEnv():\n",
    "    x_landmark = [10, 190, 10, 190]\n",
    "    y_landmark = [10, 190, 190, 10]\n",
    "    # Draw point based on above x, y axis values.\n",
    "    plt.scatter(x_landmark, y_landmark, s=8, edgecolors=\"red\")\n",
    "    x_bounds = [0, 200, 200, 0, 0]\n",
    "    # List to hold y values.\n",
    "    y_bounds = [0, 0, 200, 200, 0]\n",
    "    # Plot the environment bound\n",
    "    plt.plot(x_bounds, y_bounds, linewidth=3)\n",
    "    plt.title(\"Environment\")\n",
    "drawEnv()\n",
    "plt.show()"
   ],
   "metadata": {
    "collapsed": false,
    "pycharm": {
     "name": "#%%\n"
    }
   }
  },
  {
   "cell_type": "markdown",
   "source": [
    "# Initializing the Robot"
   ],
   "metadata": {
    "collapsed": false
   }
  },
  {
   "cell_type": "code",
   "execution_count": 3,
   "outputs": [],
   "source": [
    "MAX_STEERING_ANGLE = pi / 4 # r\n",
    "\n",
    "def set_noise(bearing, steering, distance):\n",
    "    return float(bearing), float(steering), float(distance)\n",
    "\n",
    "def set_pos(new_x, new_y, new_orientation):\n",
    "    if new_x < 0 or new_x >= world_size:\n",
    "        raise ValueError('X coordinate out of bound')\n",
    "    if new_y < 0 or new_y >= world_size:\n",
    "        raise ValueError('Y coordinate out of bound')\n",
    "    if new_orientation < 0 or new_orientation >= 2 * pi:\n",
    "        raise ValueError('Orientation must be in [0..2pi]')\n",
    "    return float(new_x), float(new_y), float(new_orientation)\n",
    "\n",
    "BEARING_NOISE_VAR, STEERING_NOISE_VAR, DISTANCE_NOISE_VAR = set_noise(0.1, 0.1, 5)\n",
    "# TODO: Fix initialisation\n",
    "def init_robot():\n",
    "    x = random() * world_size\n",
    "    y = random() * world_size\n",
    "    robot = {\n",
    "                \"front_x\": x,\n",
    "                \"front_y\": y,\n",
    "                \"orientation\": random() * world_size,\n",
    "                \"back_x\": random() * world_size,\n",
    "                \"back_y\": random() * world_size,\n",
    "            }"
   ],
   "metadata": {
    "collapsed": false,
    "pycharm": {
     "name": "#%%\n"
    }
   }
  },
  {
   "cell_type": "code",
   "execution_count": 4,
   "outputs": [
    {
     "data": {
      "text/plain": "<Figure size 432x288 with 1 Axes>",
      "image/png": "[encoded data removed]"
     },
     "metadata": {
      "needs_background": "light"
     },
     "output_type": "display_data"
    }
   ],
   "source": [
    "drawEnv()\n",
    "plt.scatter(robot['front_x'], robot['front_y'], s=8, edgecolors=\"green\")\n",
    "plt.show()"
   ],
   "metadata": {
    "collapsed": false,
    "pycharm": {
     "name": "#%%\n"
    }
   }
  },
  {
   "cell_type": "markdown",
   "source": [
    "# Sense Function"
   ],
   "metadata": {
    "collapsed": false,
    "pycharm": {
     "name": "#%% md\n"
    }
   }
  },
  {
   "cell_type": "code",
   "execution_count": 5,
   "outputs": [],
   "source": [
    "def getAngleDegrees(fromX,fromY,toX,toY):\n",
    "    deltaX = fromX - toX\n",
    "    deltaY = fromY - toY\n",
    "    return atan2(deltaY, deltaX)\n",
    "\n",
    "x2 = []\n",
    "y2 = []\n",
    "\n",
    "def sense(rob):\n",
    "    Z = []\n",
    "    for landmark in landmarks:\n",
    "        z = getAngleDegrees(rob['front_x'], rob['front_y'], landmark[0], landmark[1])\n",
    "        Z.append(z)\n",
    "        x2.append(rob['front_x'] + 400 * -cos(z))\n",
    "        y2.append(rob['front_y'] + 400 * -sin(z))\n",
    "\n",
    "    return Z"
   ],
   "metadata": {
    "collapsed": false,
    "pycharm": {
     "name": "#%%\n"
    }
   }
  },
  {
   "cell_type": "code",
   "execution_count": 6,
   "outputs": [
    {
     "data": {
      "text/plain": "<Figure size 432x288 with 1 Axes>",
      "image/png": "[encoded data removed]"
     },
     "metadata": {
      "needs_background": "light"
     },
     "output_type": "display_data"
    }
   ],
   "source": [
    "s = sense(robot)\n",
    "# draw env\n",
    "drawEnv()\n",
    "# draw bot\n",
    "plt.scatter(robot['front_x'], robot['front_y'], s=4, edgecolors=\"green\")\n",
    "\n",
    "line_x = []\n",
    "for x in x2:\n",
    "    line_x.append(x)\n",
    "    line_x.append(robot['front_x'])\n",
    "\n",
    "line_y = []\n",
    "for y in y2:\n",
    "    line_y.append(y)\n",
    "    line_y.append(robot['front_y'])\n",
    "\n",
    "plt.plot(line_x, line_y, linewidth=1)\n",
    "plt.show()"
   ],
   "metadata": {
    "collapsed": false,
    "pycharm": {
     "name": "#%%\n"
    }
   }
  },
  {
   "cell_type": "markdown",
   "source": [
    "fix sense to include gaussian"
   ],
   "metadata": {
    "collapsed": false,
    "pycharm": {
     "name": "#%% md\n"
    }
   }
  },
  {
   "cell_type": "code",
   "execution_count": 7,
   "outputs": [],
   "source": [
    "def sense(rob):\n",
    "    Z = []\n",
    "    for landmark in landmarks:\n",
    "        z = getAngleDegrees(rob['front_x'], rob['front_y'], landmark[0], landmark[1])\n",
    "        z += random.gauss(0, BEARING_NOISE_VAR)\n",
    "        Z.append(z)\n",
    "\n",
    "    return Z"
   ],
   "metadata": {
    "collapsed": false,
    "pycharm": {
     "name": "#%%\n"
    }
   }
  },
  {
   "cell_type": "markdown",
   "source": [
    "# Move Function"
   ],
   "metadata": {
    "collapsed": false
   }
  },
  {
   "cell_type": "code",
   "execution_count": 7,
   "outputs": [],
   "source": [],
   "metadata": {
    "collapsed": false,
    "pycharm": {
     "name": "#%%\n"
    }
   }
  },
  {
   "cell_type": "markdown",
   "source": [
    "# Particle Filter"
   ],
   "metadata": {
    "collapsed": false,
    "pycharm": {
     "name": "#%% md\n"
    }
   }
  },
  {
   "cell_type": "code",
   "execution_count": 7,
   "outputs": [],
   "source": [
    "\n"
   ],
   "metadata": {
    "collapsed": false,
    "pycharm": {
     "name": "#%%\n"
    }
   }
  }
 ],
 "metadata": {
  "kernelspec": {
   "display_name": "Python 3",
   "language": "python",
   "name": "python3"
  },
  "language_info": {
   "codemirror_mode": {
    "name": "ipython",
    "version": 2
   },
   "file_extension": ".py",
   "mimetype": "text/x-python",
   "name": "python",
   "nbconvert_exporter": "python",
   "pygments_lexer": "ipython2",
   "version": "2.7.6"
  }
 },
 "nbformat": 4,
 "nbformat_minor": 0
}