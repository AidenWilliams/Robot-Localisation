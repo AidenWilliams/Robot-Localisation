{
 "cells": [
  {
   "cell_type": "markdown",
   "source": [
    "# Imports"
   ],
   "metadata": {
    "collapsed": false,
    "pycharm": {
     "name": "#%% md\n"
    }
   }
  },
  {
   "cell_type": "code",
   "execution_count": 1,
   "metadata": {
    "collapsed": true
   },
   "outputs": [],
   "source": [
    "from math import pi, sqrt, cos, sin, atan2, degrees, tan\n",
    "from random import random, gauss\n",
    "import matplotlib.pyplot as plt\n",
    "import numpy as np\n",
    "%matplotlib inline"
   ]
  },
  {
   "cell_type": "markdown",
   "source": [
    "# Setting up the Environment"
   ],
   "metadata": {
    "collapsed": false
   }
  },
  {
   "cell_type": "code",
   "execution_count": 2,
   "outputs": [
    {
     "data": {
      "text/plain": "<Figure size 432x288 with 1 Axes>",
      "image/png": "[encoded data removed]"
     },
     "metadata": {
      "needs_background": "light"
     },
     "output_type": "display_data"
    }
   ],
   "source": [
    "landmarks  = [[10, 10], [190, 190], [10, 190], [190, 10]]\n",
    "world_size = 200\n",
    "def drawEnv():\n",
    "    x_landmark = [10, 190, 10, 190]\n",
    "    y_landmark = [10, 190, 190, 10]\n",
    "    # Draw point based on above x, y axis values.\n",
    "    plt.scatter(x_landmark, y_landmark, s=8, edgecolors=\"red\", linewidths=5)\n",
    "    x_bounds = [0, 200, 200, 0, 0]\n",
    "    # List to hold y values.\n",
    "    y_bounds = [0, 0, 200, 200, 0]\n",
    "    # Plot the environment bound\n",
    "    plt.plot(x_bounds, y_bounds, linewidth=3, color='b')\n",
    "    plt.title(\"Environment\")\n",
    "drawEnv()\n",
    "plt.show()"
   ],
   "metadata": {
    "collapsed": false,
    "pycharm": {
     "name": "#%%\n"
    }
   }
  },
  {
   "cell_type": "markdown",
   "source": [
    "# Initializing the Robot"
   ],
   "metadata": {
    "collapsed": false
   }
  },
  {
   "cell_type": "code",
   "execution_count": 3,
   "outputs": [],
   "source": [
    "MAX_STEERING_ANGLE = pi / 4 # r\n",
    "\n",
    "def set_pos(new_x, new_y, new_orientation, new_steering):\n",
    "    if new_x < 0 or new_x >= world_size:\n",
    "        raise ValueError('X coordinate out of bound')\n",
    "    if new_y < 0 or new_y >= world_size:\n",
    "        raise ValueError('Y coordinate out of bound')\n",
    "    if new_orientation < 0 or new_orientation >= 2 * pi:\n",
    "        raise ValueError('Orientation must be in [0..2pi]')\n",
    "    if new_steering < -MAX_STEERING_ANGLE or new_steering >= MAX_STEERING_ANGLE:\n",
    "        raise ValueError('Steering must be in [-pi/4..pi/4]')\n",
    "    return float(new_x), float(new_y), float(new_orientation), float(new_steering)\n",
    "\n",
    "BEARING_NOISE_VAR, STEERING_NOISE_VAR, DISTANCE_NOISE_VAR = (0.1, 0.1, 5)\n",
    "\n",
    "ROBOT_LENGTH = 10\n",
    "\n",
    "robot = {\n",
    "            \"front_x\": random() * world_size,\n",
    "            \"front_y\": random() * world_size,\n",
    "            \"orientation\": random() * 2 * pi,\n",
    "            \"steering\": -MAX_STEERING_ANGLE + (MAX_STEERING_ANGLE*2)*random()\n",
    "        }"
   ],
   "metadata": {
    "collapsed": false,
    "pycharm": {
     "name": "#%%\n"
    }
   }
  },
  {
   "cell_type": "code",
   "execution_count": 16,
   "outputs": [
    {
     "data": {
      "text/plain": "<Figure size 432x288 with 1 Axes>",
      "image/png": "[encoded data removed]"
     },
     "metadata": {
      "needs_background": "light"
     },
     "output_type": "display_data"
    }
   ],
   "source": [
    "def drawEnvWithBoth():\n",
    "    drawEnv()\n",
    "    plt.title(\"Environment With Robot\")\n",
    "    # rotate with robot irentation\n",
    "    # give steering angle as a line\n",
    "    plt.plot(robot['front_x'], robot['front_y'], marker='s', color='g', markersize=10)\n",
    "drawEnvWithBoth()\n",
    "plt.show()"
   ],
   "metadata": {
    "collapsed": false,
    "pycharm": {
     "name": "#%%\n"
    }
   }
  },
  {
   "cell_type": "markdown",
   "source": [
    "# Sense Function"
   ],
   "metadata": {
    "collapsed": false,
    "pycharm": {
     "name": "#%% md\n"
    }
   }
  },
  {
   "cell_type": "code",
   "execution_count": 5,
   "outputs": [],
   "source": [
    "def getAngle(fromX,fromY,toX,toY):\n",
    "    deltaX = fromX - toX\n",
    "    deltaY = fromY - toY\n",
    "    return atan2(deltaY, deltaX)\n",
    "\n",
    "x2 = []\n",
    "y2 = []\n",
    "\n",
    "def sense(rob):\n",
    "    Z = []\n",
    "    for landmark in landmarks:\n",
    "        z = getAngle(rob['front_x'], rob['front_y'], landmark[0], landmark[1])\n",
    "        dist = sqrt(((rob['front_x'] - landmark[0])**2) + ((rob['front_y'] - landmark[1])**2))\n",
    "        x2.append(rob['front_x'] + dist * -cos(z))\n",
    "        y2.append(rob['front_y'] + dist * -sin(z))\n",
    "        Z.append(z)\n",
    "\n",
    "    return Z"
   ],
   "metadata": {
    "collapsed": false,
    "pycharm": {
     "name": "#%%\n"
    }
   }
  },
  {
   "cell_type": "code",
   "execution_count": 6,
   "outputs": [
    {
     "data": {
      "text/plain": "<Figure size 432x288 with 1 Axes>",
      "image/png": "[encoded data removed]"
     },
     "metadata": {
      "needs_background": "light"
     },
     "output_type": "display_data"
    }
   ],
   "source": [
    "s = sense(robot)\n",
    "\n",
    "def drawEnvWithSensorReadings():\n",
    "    line_x = []\n",
    "    for x in x2:\n",
    "        line_x.append(robot['front_x'])\n",
    "        line_x.append(x)\n",
    "\n",
    "    line_y = []\n",
    "    for y in y2:\n",
    "        line_y.append(robot['front_y'])\n",
    "        line_y.append(y)\n",
    "\n",
    "    plt.plot(line_x, line_y, linewidth=1, color='orange')\n",
    "    drawEnvWithBoth()\n",
    "drawEnvWithSensorReadings()\n",
    "plt.show()"
   ],
   "metadata": {
    "collapsed": false,
    "pycharm": {
     "name": "#%%\n"
    }
   }
  },
  {
   "cell_type": "markdown",
   "source": [],
   "metadata": {
    "collapsed": false,
    "pycharm": {
     "name": "#%% md\n"
    }
   }
  },
  {
   "cell_type": "code",
   "execution_count": 7,
   "outputs": [
    {
     "data": {
      "text/plain": "<Figure size 432x288 with 0 Axes>"
     },
     "metadata": {},
     "output_type": "display_data"
    }
   ],
   "source": [
    "plt.clf()\n",
    "def sense(rob):\n",
    "    Z = []\n",
    "    for landmark in landmarks:\n",
    "        z = getAngle(rob['front_x'], rob['front_y'], landmark[0], landmark[1])\n",
    "        z += gauss(0, 0.1)\n",
    "        dist = sqrt(((rob['front_x'] - landmark[0])**2) + ((rob['front_y'] - landmark[1])**2))\n",
    "        x2.append(rob['front_x'] + dist * -cos(z))\n",
    "        y2.append(rob['front_y'] + dist * -sin(z))\n",
    "        Z.append(z)\n",
    "\n",
    "    return Z"
   ],
   "metadata": {
    "collapsed": false,
    "pycharm": {
     "name": "#%%\n"
    }
   }
  },
  {
   "cell_type": "code",
   "execution_count": 8,
   "outputs": [
    {
     "data": {
      "text/plain": "<Figure size 432x288 with 1 Axes>",
      "image/png": "[encoded data removed]"
     },
     "metadata": {
      "needs_background": "light"
     },
     "output_type": "display_data"
    }
   ],
   "source": [
    "for _ in range(4):\n",
    "    s = sense(robot)\n",
    "    x2 = []\n",
    "    y2 = []\n",
    "    drawEnvWithSensorReadings()\n",
    "\n",
    "plt.show()"
   ],
   "metadata": {
    "collapsed": false,
    "pycharm": {
     "name": "#%%\n"
    }
   }
  },
  {
   "cell_type": "markdown",
   "source": [
    "# Move Function"
   ],
   "metadata": {
    "collapsed": false
   }
  },
  {
   "cell_type": "code",
   "execution_count": 9,
   "outputs": [],
   "source": [
    "def move(rob, steer_angle, distance):\n",
    "    if steer_angle < -MAX_STEERING_ANGLE or steer_angle >= MAX_STEERING_ANGLE:\n",
    "        raise ValueError('Robot can only move -pi/4 - pi/4')\n",
    "    if distance < 0:\n",
    "        raise ValueError('Robot can only move forward')\n",
    "\n",
    "    # get steering angle\n",
    "    steering = rob['steering'] + steer_angle + gauss(0, STEERING_NOISE_VAR)\n",
    "    steering %= MAX_STEERING_ANGLE\n",
    "\n",
    "    # get distance\n",
    "    dist = distance + gauss(0.0, DISTANCE_NOISE_VAR)\n",
    "\n",
    "\n",
    "    # get turn angle\n",
    "    turn = (dist/ROBOT_LENGTH) * tan(steering)\n",
    "\n",
    "    if turn >0.001:\n",
    "        # Bycicle Model\n",
    "        r = tan((pi/2) - steering) * ROBOT_LENGTH\n",
    "\n",
    "        Cx = rob['front_x'] - (r * sin(rob['orientation']))\n",
    "        Cy = rob['front_y'] + (r * cos(rob['orientation']))\n",
    "\n",
    "        x = Cx + (r * sin(rob['orientation'] + turn))\n",
    "        y = Cy - (r * cos(rob['orientation'] + turn))\n",
    "\n",
    "        orientation = (rob['orientation'] + turn)\n",
    "        orientation %= 2 * pi\n",
    "\n",
    "    else:\n",
    "        # Linear Model\n",
    "        x = rob['front_x'] + (cos(rob['orientation']) * dist)\n",
    "        y = rob['front_y'] + (sin(rob['orientation']) * dist)\n",
    "        x %= world_size\n",
    "        y %= world_size\n",
    "        orientation = (rob['orientation'] + steering)\n",
    "        orientation %= 2 * pi\n",
    "\n",
    "    return set_pos(x, y, orientation, steering)"
   ],
   "metadata": {
    "collapsed": false,
    "pycharm": {
     "name": "#%%\n"
    }
   }
  },
  {
   "cell_type": "code",
   "execution_count": 10,
   "outputs": [
    {
     "data": {
      "text/plain": "<Figure size 432x288 with 1 Axes>",
      "image/png": "[encoded data removed]"
     },
     "metadata": {
      "needs_background": "light"
     },
     "output_type": "display_data"
    }
   ],
   "source": [
    "robot['front_x'], robot['front_y'], robot['orientation'], robot['steering'] = move(robot, -pi/8, 10)\n",
    "\n",
    "drawEnvWithBoth()\n",
    "plt.show()"
   ],
   "metadata": {
    "collapsed": false,
    "pycharm": {
     "name": "#%%\n"
    }
   }
  },
  {
   "cell_type": "markdown",
   "source": [
    "# Particle Filter"
   ],
   "metadata": {
    "collapsed": false,
    "pycharm": {
     "name": "#%% md\n"
    }
   }
  },
  {
   "cell_type": "code",
   "execution_count": 10,
   "outputs": [],
   "source": [
    "\n"
   ],
   "metadata": {
    "collapsed": false,
    "pycharm": {
     "name": "#%%\n"
    }
   }
  }
 ],
 "metadata": {
  "kernelspec": {
   "display_name": "Python 3",
   "language": "python",
   "name": "python3"
  },
  "language_info": {
   "codemirror_mode": {
    "name": "ipython",
    "version": 2
   },
   "file_extension": ".py",
   "mimetype": "text/x-python",
   "name": "python",
   "nbconvert_exporter": "python",
   "pygments_lexer": "ipython2",
   "version": "2.7.6"
  }
 },
 "nbformat": 4,
 "nbformat_minor": 0
}