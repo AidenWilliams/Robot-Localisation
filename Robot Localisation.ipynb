{
 "cells": [
  {
   "cell_type": "markdown",
   "source": [
    "# Robot Localisation using a Particle Filter\n",
    "***\n",
    "# Table of Contents\n",
    "1.  [Setup](#Setup)\n",
    "2.  [Setting up the Environment](#Setting-up-the-Environment)\n",
    "3.  [Initializing the Robot](#Initializing-the-Robot)\n",
    "4.  [Conclusion](#Conclusion)\n",
    "5.  [References](#References)"
   ],
   "metadata": {
    "collapsed": false,
    "pycharm": {
     "name": "#%% md\n"
    }
   }
  },
  {
   "cell_type": "markdown",
   "source": [
    "# Setup\n",
    "\n",
    "For this assignment I heavily used my work from ex 24 and previous exercises. To better present my work, I removed the\n",
    "oop aspect of having a robot class and decided to make my robot in the form of a global python dictionary, consequently,\n",
    "the function classes now access the robot/particles by reference. This allowed me to split my code in several cells\n",
    "making it easier to explain and mark which part of the assignment where.\n",
    "\n",
    "For this I will mark each code cell by a quoted text, featuring which exercises where tackled.\n",
    "\n",
    "Example:\n",
    "\n",
    "> a(i), a(ii)\n",
    "\n",
    "```\n",
    "def sense(rob):\n",
    "    .\n",
    "    .\n",
    "    .\n",
    "```\n",
    "\n",
    "Some code cells will have an md cell above it with the sub heading **Code Explanation** and some code cells will have one\n",
    "beneath them with the sub heading **Comments**. These md cells will have code explanations and comments about the code\n",
    "and/or results.\n",
    "\n",
    "I am using python 3.7."
   ],
   "metadata": {
    "collapsed": false,
    "pycharm": {
     "name": "#%% md\n"
    }
   }
  },
  {
   "cell_type": "code",
   "execution_count": 1,
   "metadata": {
    "collapsed": true
   },
   "outputs": [],
   "source": [
    "from math import pi, sqrt, cos, sin, atan2, tan, exp\n",
    "from random import random, gauss\n",
    "import matplotlib.pyplot as plt\n",
    "%matplotlib inline"
   ]
  },
  {
   "cell_type": "markdown",
   "source": [
    "## Comments\n",
    "\n",
    "Pi and a number of functions from the standard math and random libraries are required for this assignment.\n",
    "\n",
    "I will be using matplotlib to draw the environment to better visualize and explain what is going on."
   ],
   "metadata": {
    "collapsed": false,
    "pycharm": {
     "name": "#%% md\n"
    }
   }
  },
  {
   "cell_type": "markdown",
   "source": [
    "# Setting up the Environment\n",
    "\n",
    "In this step I initialise the landmark locations and and world size.\n",
    "\n",
    "## Code Explanation\n",
    "I also code in a drawEnv function which is able to draw the environment boundaries as blue lines and the landmarks as\n",
    "red circles."
   ],
   "metadata": {
    "collapsed": false
   }
  },
  {
   "cell_type": "code",
   "execution_count": 2,
   "outputs": [
    {
     "data": {
      "text/plain": "<Figure size 432x288 with 1 Axes>",
      "image/png": "[encoded data removed]"
     },
     "metadata": {
      "needs_background": "light"
     },
     "output_type": "display_data"
    }
   ],
   "source": [
    "LANDMARKS  = [[10, 10], [190, 190], [10, 190], [190, 10]]\n",
    "WORLD_SIZE = 200\n",
    "\n",
    "def drawEnv():\n",
    "    x_landmark = [10, 190, 10, 190]\n",
    "    y_landmark = [10, 190, 190, 10]\n",
    "    # Draw point based on above x, y axis values.\n",
    "    plt.scatter(x_landmark, y_landmark, s=8, edgecolors=\"red\", linewidths=5)\n",
    "    x_bounds = [0, 200, 200, 0, 0]\n",
    "    # List to hold y values.\n",
    "    y_bounds = [0, 0, 200, 200, 0]\n",
    "    # Plot the environment bound\n",
    "    plt.plot(x_bounds, y_bounds, linewidth=3, color='b')\n",
    "    plt.title(\"Environment\")\n",
    "drawEnv()\n",
    "plt.show()"
   ],
   "metadata": {
    "collapsed": false,
    "pycharm": {
     "name": "#%%\n"
    }
   }
  },
  {
   "cell_type": "markdown",
   "source": [
    "# Initializing the Robot\n",
    "\n",
    "## Code Explanation\n",
    "\n",
    "In this step I initialise the robot giving it a random point in the boundary and a random orientation. I also initialise\n",
    "the robots length, and a number of noise values as instructed by the assignment."
   ],
   "metadata": {
    "collapsed": false
   }
  },
  {
   "cell_type": "code",
   "execution_count": 3,
   "outputs": [],
   "source": [
    "MAX_STEERING_ANGLE = pi / 4 # r\n",
    "BEARING_NOISE_VAR, STEERING_NOISE_VAR, DISTANCE_NOISE_VAR = (0.1, 0.1, 5)\n",
    "\n",
    "ROBOT_LENGTH = 10\n",
    "\n",
    "robot = {\n",
    "            \"front_x\": random() * WORLD_SIZE,\n",
    "            \"front_y\": random() * WORLD_SIZE,\n",
    "            \"orientation\": random() * 2 * pi,\n",
    "            \"steering\": 0#-MAX_STEERING_ANGLE + (MAX_STEERING_ANGLE*2)*random()\n",
    "        }"
   ],
   "metadata": {
    "collapsed": false,
    "pycharm": {
     "name": "#%%\n"
    }
   }
  },
  {
   "cell_type": "markdown",
   "source": [
    "## Comments\n",
    "\n",
    "At this stage I decided to initialise the steering angle at 0 so that I can properly test the move function later on.\n",
    "\n",
    "## Code Explanation\n",
    "\n",
    "Here I update drawEnv to now include a passed robot when drawing the environment. The robot can be drawn as either a red\n",
    "or cyan arrow, the direction of the arrow being its orientation."
   ],
   "metadata": {
    "collapsed": false,
    "pycharm": {
     "name": "#%% md\n"
    }
   }
  },
  {
   "cell_type": "code",
   "execution_count": 4,
   "outputs": [
    {
     "data": {
      "text/plain": "<Figure size 432x288 with 1 Axes>",
      "image/png": "[encoded data removed]"
     },
     "metadata": {
      "needs_background": "light"
     },
     "output_type": "display_data"
    }
   ],
   "source": [
    "def drawEnvWithBot(rob, red=True):\n",
    "    drawEnv()\n",
    "    plt.title(\"Environment With Robot\")\n",
    "    if red:\n",
    "        colour = 'r'\n",
    "    else:\n",
    "        colour = 'c'\n",
    "    plt.arrow(rob['front_x'], rob['front_y'], cos(rob['orientation']) * 5, sin(rob['orientation']) * 5, width=2, color=colour)\n",
    "drawEnvWithBot(robot)\n",
    "plt.show()"
   ],
   "metadata": {
    "collapsed": false,
    "pycharm": {
     "name": "#%%\n"
    }
   }
  },
  {
   "cell_type": "markdown",
   "source": [
    "## Comments\n",
    "\n",
    "The cyan and red colour will help us differentiate between the robot and the particles later on."
   ],
   "metadata": {
    "collapsed": false
   }
  },
  {
   "cell_type": "markdown",
   "source": [
    "# Sense Function\n",
    "\n",
    "I split this part into two; first the robot senses without having the noise added in, to make sure the function works,\n",
    "then I add the noise in and check the difference.\n",
    "\n",
    "> a(i), a(ii)\n",
    "\n",
    "## Code Explanation\n",
    "\n",
    "The getAngle function returns the angle between two points."
   ],
   "metadata": {
    "collapsed": false,
    "pycharm": {
     "name": "#%% md\n"
    }
   }
  },
  {
   "cell_type": "code",
   "execution_count": 5,
   "outputs": [],
   "source": [
    "def getAngle(fromX,fromY,toX,toY):\n",
    "    deltaX = fromX - toX\n",
    "    deltaY = fromY - toY\n",
    "    return atan2(deltaY, deltaX)"
   ],
   "metadata": {
    "collapsed": false,
    "pycharm": {
     "name": "#%%\n"
    }
   }
  },
  {
   "cell_type": "markdown",
   "source": [
    "## Code Explanation\n",
    "\n",
    "Sense uses the getAngle function to get the angle between the robot and the four landmarks. This reading ```z``` is\n",
    "appended to ```Z``` a list.\n",
    "\n",
    "I also get the euclidean distance between these two points and append the x, y points to ```x2``` and ```y2```, both\n",
    "lists. This will allow me to plot the sensor readings as lines using matplotlib."
   ],
   "metadata": {
    "collapsed": false,
    "pycharm": {
     "name": "#%% md\n"
    }
   }
  },
  {
   "cell_type": "code",
   "execution_count": 17,
   "outputs": [],
   "source": [
    "x2 = []\n",
    "y2 = []\n",
    "\n",
    "def sense(rob):\n",
    "    Z = []\n",
    "    for landmark in LANDMARKS:\n",
    "        z = getAngle(rob['front_x'], rob['front_y'], landmark[0], landmark[1])\n",
    "        dist = sqrt(((rob['front_x'] - landmark[0])**2) + ((rob['front_y'] - landmark[1])**2))\n",
    "        x2.append(rob['front_x'] + dist * -cos(z))\n",
    "        y2.append(rob['front_y'] + dist * -sin(z))\n",
    "        Z.append(z)\n",
    "\n",
    "    return Z"
   ],
   "metadata": {
    "collapsed": false,
    "pycharm": {
     "name": "#%%\n"
    }
   }
  },
  {
   "cell_type": "markdown",
   "source": [
    "## Code Explanation\n",
    "\n",
    "Here I add the drawing of the sensor readings by plotting orange lines coming out of the robot, and hopefulyl landing on\n",
    "the landmarks."
   ],
   "metadata": {
    "collapsed": false,
    "pycharm": {
     "name": "#%% md\n"
    }
   }
  },
  {
   "cell_type": "code",
   "execution_count": 6,
   "outputs": [
    {
     "data": {
      "text/plain": "<Figure size 432x288 with 1 Axes>",
      "image/png": "[encoded data removed]"
     },
     "metadata": {
      "needs_background": "light"
     },
     "output_type": "display_data"
    }
   ],
   "source": [
    "def drawEnvWithSensorReadings(rob):\n",
    "    line_x = []\n",
    "    for x in x2:\n",
    "        line_x.append(rob['front_x'])\n",
    "        line_x.append(x)\n",
    "\n",
    "    line_y = []\n",
    "    for y in y2:\n",
    "        line_y.append(rob['front_y'])\n",
    "        line_y.append(y)\n",
    "\n",
    "    plt.plot(line_x, line_y, linewidth=1, color='orange')\n",
    "    drawEnvWithBot(rob)"
   ],
   "metadata": {
    "collapsed": false,
    "pycharm": {
     "name": "#%%\n"
    }
   }
  },
  {
   "cell_type": "code",
   "execution_count": null,
   "outputs": [],
   "source": [
    "s = sense(robot)\n",
    "drawEnvWithSensorReadings(robot)\n",
    "plt.show()"
   ],
   "metadata": {
    "collapsed": false,
    "pycharm": {
     "name": "#%%\n"
    }
   }
  },
  {
   "cell_type": "markdown",
   "source": [
    "## Comments\n",
    "\n",
    "Great, the robot was able to perfectly sense where the landmarks are.\n",
    "\n",
    "\n",
    "## Code Explanation\n",
    "\n",
    "Now its time to add noise to the angle and distance readings. This is done by adding a random number from gaussian\n",
    "distribution with signma = BEARING_NOISE_VAR for the bearing readings and sigma = DISTANCE_NOISE_VAR for the distance\n",
    "readings."
   ],
   "metadata": {
    "collapsed": false
   }
  },
  {
   "cell_type": "code",
   "execution_count": 7,
   "outputs": [],
   "source": [
    "def sense(rob):\n",
    "    Z = []\n",
    "    for landmark in LANDMARKS:\n",
    "        z = getAngle(rob['front_x'], rob['front_y'], landmark[0], landmark[1])\n",
    "        z += gauss(0, BEARING_NOISE_VAR)\n",
    "        dist = sqrt(((rob['front_x'] - landmark[0])**2) + ((rob['front_y'] - landmark[1])**2))\n",
    "        x2.append(rob['front_x'] + dist * -cos(z) + gauss(0, DISTANCE_NOISE_VAR))\n",
    "        y2.append(rob['front_y'] + dist * -sin(z) + gauss(0, DISTANCE_NOISE_VAR))\n",
    "        Z.append(z)\n",
    "\n",
    "    return Z"
   ],
   "metadata": {
    "collapsed": false,
    "pycharm": {
     "name": "#%%\n"
    }
   }
  },
  {
   "cell_type": "code",
   "execution_count": 8,
   "outputs": [
    {
     "data": {
      "text/plain": "<Figure size 432x288 with 1 Axes>",
      "image/png": "[encoded data removed]"
     },
     "metadata": {
      "needs_background": "light"
     },
     "output_type": "display_data"
    }
   ],
   "source": [
    "x2 = []\n",
    "y2 = []\n",
    "\n",
    "for _ in range(4):\n",
    "    s = sense(robot)\n",
    "drawEnvWithSensorReadings(robot)\n",
    "plt.show()"
   ],
   "metadata": {
    "collapsed": false,
    "pycharm": {
     "name": "#%%\n"
    }
   }
  },
  {
   "cell_type": "markdown",
   "source": [
    "## Comments\n",
    "\n",
    "Now that noise is added each sensor reading is different from the other with varying bearing and distance readings. This\n",
    "confirms that the sense function is working as intended.\n"
   ],
   "metadata": {
    "collapsed": false
   }
  },
  {
   "cell_type": "markdown",
   "source": [
    "# Move Function"
   ],
   "metadata": {
    "collapsed": false
   }
  },
  {
   "cell_type": "code",
   "execution_count": null,
   "outputs": [],
   "source": [
    "def set_pos(new_x, new_y, new_orientation, new_steering):\n",
    "\n",
    "    if new_x < 0 or new_x >= WORLD_SIZE:\n",
    "        new_x = 0 if new_x < 0 else WORLD_SIZE\n",
    "        new_orientation = - pi\n",
    "        new_orientation %= (2 * pi)\n",
    "    if new_y < 0 or new_y >= WORLD_SIZE:\n",
    "        new_y = 0 if new_y < 0 else WORLD_SIZE\n",
    "        new_orientation = - pi\n",
    "        new_orientation %= (2 * pi)\n",
    "    if new_orientation < 0 or new_orientation >= 2 * pi:\n",
    "        raise ValueError('Orientation must be in [0..2pi]')\n",
    "    if new_steering < -MAX_STEERING_ANGLE or new_steering > MAX_STEERING_ANGLE:\n",
    "        raise ValueError('Steering must be in [-pi/4..pi/4]')\n",
    "    return float(new_x), float(new_y), float(new_orientation), float(new_steering)"
   ],
   "metadata": {
    "collapsed": false,
    "pycharm": {
     "name": "#%%\n"
    }
   }
  },
  {
   "cell_type": "code",
   "execution_count": 9,
   "outputs": [],
   "source": [
    "def move(rob, steer_angle, distance):\n",
    "    if steer_angle < -MAX_STEERING_ANGLE or steer_angle > MAX_STEERING_ANGLE:\n",
    "        raise ValueError('Robot can only steer in [-pi/4..pi/4]')\n",
    "    if distance < 0:\n",
    "        raise ValueError('Robot can only move forward')\n",
    "\n",
    "    # get steering angle\n",
    "    steering = steer_angle + gauss(0, STEERING_NOISE_VAR)\n",
    "    steering = MAX_STEERING_ANGLE if steering > MAX_STEERING_ANGLE else steering\n",
    "    steering = -MAX_STEERING_ANGLE if steering < MAX_STEERING_ANGLE else steering\n",
    "    #steering %= MAX_STEERING_ANGLE\n",
    "\n",
    "    # get distance\n",
    "    dist = distance + gauss(0.0, DISTANCE_NOISE_VAR)\n",
    "\n",
    "    # get turn angle\n",
    "    turn = (dist/ROBOT_LENGTH) * tan(steering)\n",
    "\n",
    "    if turn > 0.001 or turn < -0.001:\n",
    "        # Bycicle Model\n",
    "        r = tan((pi/2) - steering) * ROBOT_LENGTH\n",
    "\n",
    "        Cx = rob['front_x'] - (r * sin(rob['orientation']))\n",
    "        Cy = rob['front_y'] + (r * cos(rob['orientation']))\n",
    "\n",
    "        x = Cx + (r * sin(rob['orientation'] + turn))\n",
    "        y = Cy - (r * cos(rob['orientation'] + turn))\n",
    "\n",
    "        orientation = (rob['orientation'] + turn)\n",
    "        orientation %=( 2 * pi)\n",
    "\n",
    "    else:\n",
    "        # Linear Model\n",
    "        x = rob['front_x'] + (cos(rob['orientation']) * dist)\n",
    "        y = rob['front_y'] + (sin(rob['orientation']) * dist)\n",
    "        x %= WORLD_SIZE\n",
    "        y %= WORLD_SIZE\n",
    "        orientation = (rob['orientation'] + steering)\n",
    "        orientation %= (2 * pi)\n",
    "\n",
    "    rob['front_x'], rob['front_y'], rob['orientation'], rob['steering'] = set_pos(x, y, orientation, steering)\n",
    "    return rob"
   ],
   "metadata": {
    "collapsed": false,
    "pycharm": {
     "name": "#%%\n"
    }
   }
  },
  {
   "cell_type": "code",
   "execution_count": 10,
   "outputs": [
    {
     "data": {
      "text/plain": "<Figure size 432x288 with 1 Axes>",
      "image/png": "[encoded data removed]"
     },
     "metadata": {
      "needs_background": "light"
     },
     "output_type": "display_data"
    }
   ],
   "source": [
    "robot = move(robot, 0, 10)\n",
    "\n",
    "drawEnvWithBot(robot)\n",
    "plt.show()"
   ],
   "metadata": {
    "collapsed": false,
    "pycharm": {
     "name": "#%%\n"
    }
   }
  },
  {
   "cell_type": "markdown",
   "source": [
    "# Particle Filter"
   ],
   "metadata": {
    "collapsed": false,
    "pycharm": {
     "name": "#%% md\n"
    }
   }
  },
  {
   "cell_type": "code",
   "execution_count": 11,
   "outputs": [],
   "source": [
    "def Gaussian(mu, sigma, x):\n",
    "    # calculates the probability of x for 1-dim Gaussian with mean mu and var. sigma\n",
    "    return exp(- ((mu - x) ** 2) / (sigma ** 2) / 2.0) / sqrt(2.0 * pi * (sigma ** 2))\n",
    "\n",
    "def measurement_prob(rob, measurement):\n",
    "    # calculates how likely a measurement should be\n",
    "    prob = 1.0\n",
    "    for j, landmark in enumerate(LANDMARKS):\n",
    "        z = getAngle(rob['front_x'], rob['front_y'], landmark[0], landmark[1])\n",
    "        # dist = sqrt(((rob['front_x'] - landmark[0])**2) + ((rob['front_y'] - landmark[1])**2))\n",
    "        prob *= Gaussian(z, BEARING_NOISE_VAR, measurement[j])\n",
    "    return prob"
   ],
   "metadata": {
    "collapsed": false,
    "pycharm": {
     "name": "#%%\n"
    }
   }
  },
  {
   "cell_type": "code",
   "execution_count": 12,
   "outputs": [],
   "source": [
    "def evaluate(rob, particles):\n",
    "    sum = 0.0\n",
    "    for p in particles: # calculate mean error\n",
    "        dx = (p['front_x'] - rob['front_x'] + (WORLD_SIZE/2.0)) % (WORLD_SIZE - (WORLD_SIZE/2.0))\n",
    "        dy = (p['front_y'] - rob['front_y'] + (WORLD_SIZE/2.0)) % (WORLD_SIZE - (WORLD_SIZE/2.0))\n",
    "        err = sqrt((dx * dx) + (dy * dy))\n",
    "        sum += err\n",
    "    return sum / float(len(particles))"
   ],
   "metadata": {
    "collapsed": false,
    "pycharm": {
     "name": "#%%\n"
    }
   }
  },
  {
   "cell_type": "code",
   "execution_count": 13,
   "outputs": [
    {
     "data": {
      "text/plain": "<Figure size 432x288 with 1 Axes>",
      "image/png": "[encoded data removed]"
     },
     "metadata": {
      "needs_background": "light"
     },
     "output_type": "display_data"
    }
   ],
   "source": [
    "N = 1000\n",
    "T = 5\n",
    "\n",
    "robot = {\n",
    "            \"front_x\": random() * WORLD_SIZE,\n",
    "            \"front_y\": random() * WORLD_SIZE,\n",
    "            \"orientation\": random() * 2 * pi,\n",
    "            \"steering\": -MAX_STEERING_ANGLE + (MAX_STEERING_ANGLE*2)*random()\n",
    "        }\n",
    "\n",
    "drawEnvWithBot(robot)\n",
    "plt.show()\n",
    "\n",
    "p = []\n",
    "for i in range(N):\n",
    "    r = {\n",
    "            \"front_x\": random() * WORLD_SIZE,\n",
    "            \"front_y\": random() * WORLD_SIZE,\n",
    "            \"orientation\": random() * 2 * pi,\n",
    "            \"steering\": -MAX_STEERING_ANGLE + (MAX_STEERING_ANGLE*2)*random()\n",
    "        }\n",
    "    p.append(r)\n",
    "\n",
    "print( 'Mean error at start ', evaluate(robot, p))\n",
    "for i, _p in enumerate(p):\n",
    "    print(_p['front_x'], _p['front_y'], _p['orientation'], _p['steering'])\n",
    "    if i == 5:\n",
    "        break\n",
    "for _p in p:\n",
    "    drawEnvWithBot(_p, False)\n",
    "plt.show()"
   ],
   "metadata": {
    "collapsed": false,
    "pycharm": {
     "name": "#%%\n"
    }
   }
  },
  {
   "cell_type": "code",
   "execution_count": 15,
   "outputs": [
    {
     "name": "stdout",
     "output_type": "stream",
     "text": [
      "Mean error 95.75738138045965\n",
      "Mean error 94.5626834956005\n",
      "Mean error 93.325810201824\n",
      "Mean error 47.23987226899845\n",
      "Mean error 50.3556900033399\n"
     ]
    }
   ],
   "source": [
    "for t in range(T):\n",
    "    robot = move(robot, 0.1, 5.0)\n",
    "\n",
    "    Z = sense(robot)\n",
    "\n",
    "    p2 = []\n",
    "    for _p in p:\n",
    "        p2.append(move(_p, 0.1, 5.0))\n",
    "    p = p2\n",
    "\n",
    "    w = []\n",
    "    for _p in p:\n",
    "        w.append(measurement_prob(_p, Z))\n",
    "    p3 = []\n",
    "\n",
    "    index = int(random() * N)\n",
    "    beta = 0.0\n",
    "    mw = max(w)\n",
    "    for i in range(N):\n",
    "        beta += random() * 2.0 * mw\n",
    "        while beta > w[index]:\n",
    "            beta -= w[index]\n",
    "            index = (index + 1) % N\n",
    "        p3.append(p[index])\n",
    "    p = p3\n",
    "\n",
    "    print('Mean error',evaluate(robot, p))"
   ],
   "metadata": {
    "collapsed": false,
    "pycharm": {
     "name": "#%%\n"
    }
   }
  },
  {
   "cell_type": "code",
   "execution_count": 16,
   "outputs": [
    {
     "data": {
      "text/plain": "<Figure size 432x288 with 1 Axes>",
      "image/png": "[encoded data removed]"
     },
     "metadata": {
      "needs_background": "light"
     },
     "output_type": "display_data"
    }
   ],
   "source": [
    "for _p in p:\n",
    "    drawEnvWithBot(_p, False)\n",
    "\n",
    "drawEnvWithBot(robot)\n",
    "plt.show()"
   ],
   "metadata": {
    "collapsed": false,
    "pycharm": {
     "name": "#%%\n"
    }
   }
  }
 ],
 "metadata": {
  "kernelspec": {
   "display_name": "Python 3",
   "language": "python",
   "name": "python3"
  },
  "language_info": {
   "codemirror_mode": {
    "name": "ipython",
    "version": 2
   },
   "file_extension": ".py",
   "mimetype": "text/x-python",
   "name": "python",
   "nbconvert_exporter": "python",
   "pygments_lexer": "ipython2",
   "version": "2.7.6"
  }
 },
 "nbformat": 4,
 "nbformat_minor": 0
}